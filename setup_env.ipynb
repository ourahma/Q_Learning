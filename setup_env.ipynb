{
 "cells": [
  {
   "cell_type": "markdown",
   "metadata": {},
   "source": [
    "## Q learning formule de Bellman"
   ]
  },
  {
   "cell_type": "code",
   "execution_count": 1,
   "metadata": {},
   "outputs": [],
   "source": [
    "import numpy as np\n",
    "import matplotlib.pyplot as plt\n",
    "import matplotlib.patches as patches"
   ]
  },
  {
   "cell_type": "code",
   "execution_count": 2,
   "metadata": {},
   "outputs": [
    {
     "data": {
      "text/plain": [
       "array([[ 0.,  0.,  0.,  0.,  0.,  1.,  1.,  0.,  0.,  0.],\n",
       "       [ 0.,  0.,  0.,  0.,  0.,  0.,  0.,  0.,  0.,  0.],\n",
       "       [ 0.,  0.,  0.,  0.,  0.,  0.,  0.,  0.,  0.,  0.],\n",
       "       [ 0.,  0.,  0.,  1.,  1.,  0.,  0.,  0.,  0.,  0.],\n",
       "       [ 0.,  0.,  0.,  0.,  0.,  0.,  0.,  0.,  0.,  0.],\n",
       "       [ 0.,  0.,  0.,  0.,  0.,  0.,  0.,  0.,  0.,  0.],\n",
       "       [ 0.,  0.,  0.,  0.,  0.,  1.,  1.,  0.,  0.,  0.],\n",
       "       [ 0.,  0.,  0.,  0.,  0.,  0.,  0.,  0.,  0.,  0.],\n",
       "       [ 0.,  0.,  0.,  0.,  0.,  0.,  0.,  0.,  0.,  0.],\n",
       "       [ 0.,  0.,  0.,  0.,  0.,  0.,  0.,  0.,  0., 10.]])"
      ]
     },
     "execution_count": 2,
     "metadata": {},
     "output_type": "execute_result"
    }
   ],
   "source": [
    "# Initialisation de l'environnement (grille)\n",
    "grid_size = 10\n",
    "env = np.zeros((grid_size, grid_size))  # Grille vide\n",
    "goal = (9, 9)\n",
    "\n",
    "# Ajout d'obstacles\n",
    "obstacles = [(0, 5), (0, 6), (3, 3), (3, 4), (6, 5), (6, 6)]\n",
    "for obs in obstacles:\n",
    "    env[obs] = 1\n",
    "env[goal] = 10 # But\n",
    "\n",
    "# Afficher la grille\n",
    "env"
   ]
  },
  {
   "cell_type": "code",
   "execution_count": 3,
   "metadata": {},
   "outputs": [
    {
     "data": {
      "text/plain": [
       "(10, 10, 4)"
      ]
     },
     "execution_count": 3,
     "metadata": {},
     "output_type": "execute_result"
    }
   ],
   "source": [
    "# Initialisation des paramètres\n",
    "actions = ['H', 'B', 'G', 'D']  # Haut, Bas, Gauche, Droite\n",
    "#q_table = np.zeros((grid_size, grid_size))  # Q-valeurs\n",
    "q_table = np.zeros((grid_size, grid_size, len(actions))) \n",
    "alpha = 0.1  # Taux d'apprentissage\n",
    "gamma = 0.9  # Taux de discount\n",
    "epsilon = 0.1  # Exploration/exploitation\n",
    "q_table.shape"
   ]
  },
  {
   "cell_type": "code",
   "execution_count": 20,
   "metadata": {},
   "outputs": [],
   "source": [
    "# Définir les récompenses\n",
    "def get_reward(state):\n",
    "    x, y = state\n",
    "    if env[x, y] == 1:  # Obstacle\n",
    "        return -10\n",
    "    elif (x, y) == (9, 9):  # Objectif\n",
    "        return 10 \n",
    "    else:\n",
    "        return 1 / (abs(x - goal[0]) + abs(y - goal[1]) )\n",
    "\n",
    "# Déplacer le robot\n",
    "def take_action(state, action):\n",
    "    x, y = state\n",
    "    \n",
    "    # Restriction pour la position (0, 0)\n",
    "    if state == (0, 0):\n",
    "        if action == 'B':  # Bas\n",
    "            x += 1\n",
    "        elif action == 'D':  # Droite\n",
    "            y += 1\n",
    "        # Les autres actions ne sont pas permises, rester dans l'état actuel\n",
    "        return (x, y)\n",
    "    \n",
    "    \n",
    "    if action == 'H' and x > 0:\n",
    "        x -= 1\n",
    "    elif action == 'B' and x < grid_size - 1:\n",
    "        x += 1\n",
    "    elif action == 'G' and y > 0:\n",
    "        y -= 1\n",
    "    elif action == 'D' and y < grid_size - 1:\n",
    "        y += 1\n",
    "    return (x, y)\n",
    "\n",
    "# Q-learning\n",
    "episodes = 100\n",
    "for episode in range(episodes):\n",
    "    state = (0, 0)\n",
    "    while state != (9, 9):\n",
    "        # Choisir une action\n",
    "        if np.random.uniform(0, 1) < epsilon:\n",
    "            action_index = np.random.choice(len(actions))  # Exploration\n",
    "        else:\n",
    "            action_index = np.argmax(q_table[state[0], state[1], :])  # Exploitation\n",
    "        \n",
    "        action = actions[action_index]\n",
    "        next_state = take_action(state, action)\n",
    "        reward = get_reward(next_state)\n",
    "        \n",
    "        # Mettre à jour la Q-valeur\n",
    "        q_table[state[0], state[1], action_index] += alpha * (\n",
    "            reward + gamma * np.max(q_table[next_state[0], next_state[1], :]) - \n",
    "            q_table[state[0], state[1], action_index]\n",
    "        )\n",
    "        \n",
    "        state = next_state\n"
   ]
  },
  {
   "cell_type": "code",
   "execution_count": 13,
   "metadata": {},
   "outputs": [
    {
     "name": "stdout",
     "output_type": "stream",
     "text": [
      "Chemin valide : [(0, 0), (0, 1), (0, 2), (0, 3), (0, 4), (1, 4), (1, 5), (2, 5), (3, 5), (3, 6), (2, 6), (2, 7), (1, 7), (0, 7), (0, 8), (0, 9), (1, 9), (2, 9), (3, 9), (4, 9), (5, 9), (6, 9), (7, 9), (8, 9), (9, 9)]\n"
     ]
    }
   ],
   "source": [
    "# Trouver un chemin valide\n",
    "valid_path = []\n",
    "state = (0, 0)\n",
    "\n",
    "while state != (9, 9):\n",
    "    valid_path.append(state)\n",
    "    action_index = np.argmax(q_table[state[0], state[1], :])\n",
    "    action = actions[action_index]\n",
    "    next_state = take_action(state, action)\n",
    "    \n",
    "    # Vérifiez si l'état suivant est valide (pas un obstacle)\n",
    "    if env[next_state[0], next_state[1]] == 1:\n",
    "        print(\"Erreur : chemin passe par un obstacle !\")\n",
    "        break\n",
    "    state = next_state\n",
    "\n",
    "valid_path.append((9, 9))  # Ajouter l'objectif\n",
    "print(\"Chemin valide :\", valid_path)\n"
   ]
  },
  {
   "cell_type": "code",
   "execution_count": 21,
   "metadata": {},
   "outputs": [],
   "source": [
    "def visualize_path(env, path):\n",
    "    grid_size = env.shape[0]\n",
    "    fig, ax = plt.subplots(figsize=(8, 8))\n",
    "    \n",
    "    # Dessiner les cases\n",
    "    for x in range(grid_size):\n",
    "        for y in range(grid_size):\n",
    "            if env[x, y] == 1:  # Obstacle\n",
    "                rect = patches.Rectangle((y, grid_size - x - 1), 1, 1, facecolor='black')\n",
    "            else:  # Case valide\n",
    "                rect = patches.Rectangle((y, grid_size - x - 1), 1, 1, edgecolor='gray', facecolor='white')\n",
    "            ax.add_patch(rect)\n",
    "    \n",
    "    # Dessiner le chemin\n",
    "    for i in range(len(path) - 1):\n",
    "        start = path[i]\n",
    "        end = path[i + 1]\n",
    "        # Matplotlib dessine en coordonnées inversées (x devient y et y devient x)\n",
    "        ax.plot(\n",
    "            [start[1] + 0.5, end[1] + 0.5], \n",
    "            [grid_size - start[0] - 0.5, grid_size - end[0] - 0.5], \n",
    "            color='blue', linewidth=2\n",
    "        )\n",
    "    \n",
    "    # Marquer le point de départ et l'objectif\n",
    "    start = path[0]\n",
    "    goal = path[-1]\n",
    "    ax.plot(start[1] + 0.5, grid_size - start[0] - 0.5, 'go', markersize=10, label=\"Départ\")  # Vert\n",
    "    ax.plot(goal[1] + 0.5, grid_size - goal[0] - 0.5, 'ro', markersize=10, label=\"Objectif\")  # Rouge\n",
    "    \n",
    "    # Configurer les axes\n",
    "    ax.set_xlim(0, grid_size)\n",
    "    ax.set_ylim(0, grid_size)\n",
    "    ax.set_xticks(range(grid_size))\n",
    "    ax.set_yticks(range(grid_size-1,0,-1))\n",
    "    ax.set_aspect('equal')\n",
    "    ax.grid(True)\n",
    "    ax.legend()\n",
    "    plt.title(\"Chemin valide dans la grille\")\n",
    "    plt.show()\n"
   ]
  },
  {
   "cell_type": "code",
   "execution_count": 22,
   "metadata": {},
   "outputs": [
    {
     "data": {
      "image/png": "[encoded data removed]",
      "text/plain": [
       "<Figure size 800x800 with 1 Axes>"
      ]
     },
     "metadata": {},
     "output_type": "display_data"
    }
   ],
   "source": [
    "visualize_path(env, valid_path)"
   ]
  },
  {
   "cell_type": "markdown",
   "metadata": {},
   "source": [
    "## Greedy Q learning (cours)"
   ]
  },
  {
   "cell_type": "code",
   "execution_count": 10,
   "metadata": {},
   "outputs": [],
   "source": [
    "Q = np.zeros((grid_size, grid_size, len(actions))) "
   ]
  },
  {
   "cell_type": "code",
   "execution_count": null,
   "metadata": {},
   "outputs": [],
   "source": [
    "# Définir les récompenses\n",
    "def get_reward2(state):\n",
    "    x, y = state\n",
    "    if env[x, y] == 1:  # Obstacle\n",
    "        return -10\n",
    "    elif (x, y) == (9, 9):  # Objectif\n",
    "        return 10\n",
    "    else:\n",
    "        return 1 / (abs(x - goal[0]) + abs(y - goal[1]) )\n",
    "\n",
    "# Q-learning\n",
    "def train_q_algorithm(episodes, Q):\n",
    "    for episode in range(episodes):\n",
    "        state = (0, 0)\n",
    "        while state != (9, 9):\n",
    "            # Choisir une action\n",
    "            action_index = np.argmax(Q[state[0], state[1], :])  # Exploitation\n",
    "            \n",
    "            action = actions[action_index]\n",
    "            next_state = take_action(state, action)\n",
    "            reward = get_reward2(next_state)\n",
    "            \n",
    "            # Mettre à jour la Q-valeur\n",
    "            Q[state[0], state[1], action_index] += reward + gamma * np.max(Q[next_state[0], next_state[1], :])\n",
    "            print(\"La state est \",state)\n",
    "            print(\"l'entrainement est dans la state de \",Q[state[0], state[1], :])\n",
    "            \n",
    "            state = next_state\n",
    "    return Q\n",
    "episodes = 10\n",
    "Q = train_q_algorithm(episodes, Q)\n"
   ]
  }
 ],
 "metadata": {
  "kernelspec": {
   "display_name": "base",
   "language": "python",
   "name": "python3"
  },
  "language_info": {
   "codemirror_mode": {
    "name": "ipython",
    "version": 3
   },
   "file_extension": ".py",
   "mimetype": "text/x-python",
   "name": "python",
   "nbconvert_exporter": "python",
   "pygments_lexer": "ipython3",
   "version": "3.12.7"
  }
 },
 "nbformat": 4,
 "nbformat_minor": 2
}
